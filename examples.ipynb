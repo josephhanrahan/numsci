{
 "cells": [
  {
   "cell_type": "code",
   "execution_count": null,
   "id": "cb492605",
   "metadata": {},
   "outputs": [],
   "source": [
    "from numsci.optimize import curve_fit, model_sig\n",
    "import numpy as np\n",
    "import matplotlib.pyplot as plt\n",
    "from numba import cfunc, njit\n",
    "import scipy"
   ]
  },
  {
   "cell_type": "code",
   "execution_count": 2,
   "id": "04648e1b",
   "metadata": {},
   "outputs": [
    {
     "data": {
      "image/png": "[encoded data removed]",
      "text/plain": [
       "<Figure size 640x480 with 1 Axes>"
      ]
     },
     "metadata": {},
     "output_type": "display_data"
    }
   ],
   "source": [
    "dist = np.random.normal(400, 30, 1000)\n",
    "counts, bins = np.histogram(dist, bins=15)\n",
    "bin_centers = (bins[:-1] + bins[1:]) / 2\n",
    "plt.scatter(bin_centers, counts)\n",
    "plt.show()"
   ]
  },
  {
   "cell_type": "code",
   "execution_count": 3,
   "id": "f31f7b7c",
   "metadata": {},
   "outputs": [],
   "source": [
    "@cfunc(model_sig, nopython=True)\n",
    "def gaussian(x, params):\n",
    "    A = params[0]\n",
    "    mew = params[1]\n",
    "    sig = params[2]\n",
    "    return A*np.exp(-((x - mew)**2) / (2*(sig**2)))\n",
    "\n",
    "\n",
    "# scipy_sig = types.double(types.double, types.double, types.double, types.double)\n",
    "# @cfunc(scipy_sig, nopython=True)\n",
    "@njit\n",
    "def gaussian_scipy(x, A, mew, sig):\n",
    "    return A*np.exp(-((x - mew)**2) / (2*(sig**2)))"
   ]
  },
  {
   "cell_type": "code",
   "execution_count": null,
   "id": "5b690d13",
   "metadata": {},
   "outputs": [
    {
     "ename": "ValueError",
     "evalue": "",
     "output_type": "error",
     "traceback": [
      "\u001b[31m---------------------------------------------------------------------------\u001b[39m",
      "\u001b[31mValueError\u001b[39m                                Traceback (most recent call last)",
      "\u001b[36mCell\u001b[39m\u001b[36m \u001b[39m\u001b[32mIn[4]\u001b[39m\u001b[32m, line 14\u001b[39m\n\u001b[32m     11\u001b[39m     popt, pcov = scipy.optimize.curve_fit(gaussian_scipy, bin_centers, counts, p0=[\u001b[32m200\u001b[39m, \u001b[32m400\u001b[39m, \u001b[32m10\u001b[39m])\n\u001b[32m     12\u001b[39m     \u001b[38;5;28;01mreturn\u001b[39;00m popt\n\u001b[32m---> \u001b[39m\u001b[32m14\u001b[39m \u001b[43mf1\u001b[49m\u001b[43m(\u001b[49m\u001b[43m)\u001b[49m\n\u001b[32m     15\u001b[39m f2()\n\u001b[32m     16\u001b[39m time_f1 = timeit.timeit(f1, number=\u001b[32m1000\u001b[39m)\n",
      "\u001b[36mCell\u001b[39m\u001b[36m \u001b[39m\u001b[32mIn[4]\u001b[39m\u001b[32m, line 7\u001b[39m, in \u001b[36mf1\u001b[39m\u001b[34m()\u001b[39m\n\u001b[32m      5\u001b[39m \u001b[38;5;129m@njit\u001b[39m\n\u001b[32m      6\u001b[39m \u001b[38;5;28;01mdef\u001b[39;00m\u001b[38;5;250m \u001b[39m\u001b[34mf1\u001b[39m():\n\u001b[32m----> \u001b[39m\u001b[32m7\u001b[39m     popt, pcov = curve_fit(gaussian_addr, bin_centers, counts, p0=[\u001b[32m200\u001b[39m, \u001b[32m400\u001b[39m, \u001b[32m10\u001b[39m])\n\u001b[32m      8\u001b[39m     \u001b[38;5;28;01mreturn\u001b[39;00m popt\n",
      "\u001b[31mValueError\u001b[39m: "
     ]
    }
   ],
   "source": [
    "import timeit\n",
    "\n",
    "gaussian_addr = gaussian.address\n",
    "\n",
    "@njit\n",
    "def f1():\n",
    "    popt, pcov= curve_fit(gaussian_addr, bin_centers, counts, p0=[200, 400, 10])\n",
    "    return popt\n",
    "\n",
    "def f2():\n",
    "    popt, pcov = scipy.optimize.curve_fit(gaussian_scipy, bin_centers, counts, p0=[200, 400, 10])\n",
    "    return popt\n",
    "\n",
    "f1()\n",
    "f2()\n",
    "time_f1 = timeit.timeit(f1, number=1000)\n",
    "time_f2 = timeit.timeit(f2, number=1000)\n",
    "\n",
    "print(f\"curve_fit with njit: {time_f1:.6f} seconds\")\n",
    "print(f\"curve_fit without njit: {time_f2:.6f} seconds\")\n"
   ]
  },
  {
   "cell_type": "code",
   "execution_count": null,
   "id": "6025a77c",
   "metadata": {},
   "outputs": [],
   "source": []
  }
 ],
 "metadata": {
  "kernelspec": {
   "display_name": ".venv",
   "language": "python",
   "name": "python3"
  },
  "language_info": {
   "codemirror_mode": {
    "name": "ipython",
    "version": 3
   },
   "file_extension": ".py",
   "mimetype": "text/x-python",
   "name": "python",
   "nbconvert_exporter": "python",
   "pygments_lexer": "ipython3",
   "version": "3.11.6"
  }
 },
 "nbformat": 4,
 "nbformat_minor": 5
}
