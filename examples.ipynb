{
 "cells": [
  {
   "cell_type": "code",
   "execution_count": 24,
   "id": "cb492605",
   "metadata": {},
   "outputs": [],
   "source": [
    "from numsci.optimize import curve_fit, model_sig\n",
    "import numpy as np\n",
    "import matplotlib.pyplot as plt\n",
    "from numba import cfunc, njit, types\n",
    "import scipy"
   ]
  },
  {
   "cell_type": "code",
   "execution_count": 52,
   "id": "04648e1b",
   "metadata": {},
   "outputs": [
    {
     "data": {
      "image/png": "[encoded data removed]",
      "text/plain": [
       "<Figure size 640x480 with 1 Axes>"
      ]
     },
     "metadata": {},
     "output_type": "display_data"
    }
   ],
   "source": [
    "dist = np.random.normal(400, 30, 100)\n",
    "counts, bins = np.histogram(dist, bins=15)\n",
    "bin_centers = (bins[:-1] + bins[1:]) / 2\n",
    "plt.scatter(bin_centers, counts)\n",
    "plt.show()"
   ]
  },
  {
   "cell_type": "code",
   "execution_count": 53,
   "id": "f31f7b7c",
   "metadata": {},
   "outputs": [],
   "source": [
    "@cfunc(model_sig, nopython=True)\n",
    "def gaussian(x, params):\n",
    "    A = params[0]\n",
    "    mew = params[1]\n",
    "    sig = params[2]\n",
    "    return A*np.exp(-((x - mew)**2) / (2*(sig**2)))\n",
    "\n",
    "\n",
    "# scipy_sig = types.double(types.double, types.double, types.double, types.double)\n",
    "# @cfunc(scipy_sig, nopython=True)\n",
    "@njit\n",
    "def gaussian_scipy(x, A, mew, sig):\n",
    "    return A*np.exp(-((x - mew)**2) / (2*(sig**2)))"
   ]
  },
  {
   "cell_type": "code",
   "execution_count": 54,
   "id": "5b690d13",
   "metadata": {},
   "outputs": [
    {
     "name": "stdout",
     "output_type": "stream",
     "text": [
      "f1: 0.004621 seconds\n",
      "f2: 0.311980 seconds\n"
     ]
    }
   ],
   "source": [
    "import timeit\n",
    "\n",
    "gaussian_addr = gaussian.address\n",
    "\n",
    "@njit\n",
    "def f1():\n",
    "    popt, pcov = curve_fit(gaussian_addr, bin_centers, counts, p0=[200, 400, 10])\n",
    "    return popt\n",
    "\n",
    "def f2():\n",
    "    popt, pcov = scipy.optimize.curve_fit(gaussian_scipy, bin_centers, counts, p0=[200, 400, 10])\n",
    "    return popt\n",
    "\n",
    "f1()\n",
    "f2()\n",
    "time_f1 = timeit.timeit(f1, number=1000)\n",
    "time_f2 = timeit.timeit(f2, number=1000)\n",
    "\n",
    "print(f\"f1: {time_f1:.6f} seconds\")\n",
    "print(f\"f2: {time_f2:.6f} seconds\")\n"
   ]
  }
 ],
 "metadata": {
  "kernelspec": {
   "display_name": ".venv",
   "language": "python",
   "name": "python3"
  },
  "language_info": {
   "codemirror_mode": {
    "name": "ipython",
    "version": 3
   },
   "file_extension": ".py",
   "mimetype": "text/x-python",
   "name": "python",
   "nbconvert_exporter": "python",
   "pygments_lexer": "ipython3",
   "version": "3.11.6"
  }
 },
 "nbformat": 4,
 "nbformat_minor": 5
}
