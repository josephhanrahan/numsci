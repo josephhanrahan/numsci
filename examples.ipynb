{
 "cells": [
  {
   "cell_type": "code",
   "execution_count": 1,
   "id": "cb492605",
   "metadata": {},
   "outputs": [],
   "source": [
    "from numsci.optimize import curve_fit, model_sig\n",
    "import numpy as np\n",
    "import matplotlib.pyplot as plt\n",
    "from numba import cfunc, njit\n",
    "import scipy"
   ]
  },
  {
   "cell_type": "code",
   "execution_count": 2,
   "id": "04648e1b",
   "metadata": {},
   "outputs": [
    {
     "data": {
      "image/png": "[encoded data removed]",
      "text/plain": [
       "<Figure size 640x480 with 1 Axes>"
      ]
     },
     "metadata": {},
     "output_type": "display_data"
    }
   ],
   "source": [
    "# generate a simple normal distribution\n",
    "dist = np.random.normal(400, 30, 1000)\n",
    "counts, bins = np.histogram(dist, bins=15)\n",
    "bin_centers = (bins[:-1] + bins[1:]) / 2\n",
    "plt.scatter(bin_centers, counts)\n",
    "plt.show()"
   ]
  },
  {
   "cell_type": "code",
   "execution_count": 3,
   "id": "f31f7b7c",
   "metadata": {},
   "outputs": [
    {
     "name": "stdout",
     "output_type": "stream",
     "text": [
      "Numsci popt: [168.31524822 401.50958597  30.96486242]\n",
      "Scipy popt: [168.31524822 401.50958597  30.96486242]\n",
      "Scipy and Numsci Agree!\n"
     ]
    }
   ],
   "source": [
    "@cfunc(model_sig, nopython=True)\n",
    "def gaussian(x, params):\n",
    "    A = params[0]\n",
    "    mew = params[1]\n",
    "    sig = params[2]\n",
    "    return A*np.exp(-((x - mew)**2) / (2*(sig**2)))\n",
    "\n",
    "\n",
    "# scipy_sig = types.double(types.double, types.double, types.double, types.double)\n",
    "# @cfunc(scipy_sig, nopython=True)\n",
    "# scipy model functions can be @njit, doing this for a fair comparison\n",
    "@njit\n",
    "def gaussian_scipy(x, A, mew, sig):\n",
    "    return A*np.exp(-((x - mew)**2) / (2*(sig**2)))\n",
    "\n",
    "# obtain address of model function outside of @njit function\n",
    "gaussian_addr = gaussian.address\n",
    "\n",
    "numsci_popt, _ = curve_fit(gaussian_addr, bin_centers, counts.astype(np.float64), p0=[200, 400, 10])\n",
    "scipy_popt, _ = scipy.optimize.curve_fit(gaussian_scipy, bin_centers, counts, p0=[200, 400, 10])\n",
    "print(\"Numsci popt: {}\".format(numsci_popt))\n",
    "print(\"Scipy popt: {}\".format(scipy_popt))\n",
    "print(\"Scipy and Numsci Agree!\")"
   ]
  },
  {
   "cell_type": "code",
   "execution_count": 4,
   "id": "5b690d13",
   "metadata": {},
   "outputs": [
    {
     "name": "stdout",
     "output_type": "stream",
     "text": [
      "curve_fit with njit: 3.808984 seconds\n",
      "curve_fit without njit: 46.527065 seconds\n"
     ]
    }
   ],
   "source": [
    "import timeit\n",
    "\n",
    "gaussian_addr = gaussian.address\n",
    "\n",
    "@njit\n",
    "def f1():\n",
    "    dist = np.random.normal(400, 30, 1000)\n",
    "    counts, bins = np.histogram(dist, bins=15)\n",
    "    bin_centers = (bins[:-1] + bins[1:]) / 2\n",
    "    popt, pcov = curve_fit(gaussian_addr, bin_centers, counts.astype(np.float64), p0=[200, 400, 10])\n",
    "    return popt\n",
    "\n",
    "def f2():\n",
    "    dist = np.random.normal(400, 30, 1000)\n",
    "    counts, bins = np.histogram(dist, bins=15)\n",
    "    bin_centers = (bins[:-1] + bins[1:]) / 2\n",
    "    popt, pcov = scipy.optimize.curve_fit(gaussian_scipy, bin_centers, counts, p0=[200, 400, 10])\n",
    "    return popt\n",
    "\n",
    "f1()\n",
    "f2()\n",
    "time_f1 = timeit.timeit(f1, number=100000)\n",
    "time_f2 = timeit.timeit(f2, number=100000)\n",
    "\n",
    "print(f\"curve_fit with njit: {time_f1:.6f} seconds\")\n",
    "print(f\"curve_fit without njit: {time_f2:.6f} seconds\")"
   ]
  }
 ],
 "metadata": {
  "kernelspec": {
   "display_name": ".venv (3.13.5)",
   "language": "python",
   "name": "python3"
  },
  "language_info": {
   "codemirror_mode": {
    "name": "ipython",
    "version": 3
   },
   "file_extension": ".py",
   "mimetype": "text/x-python",
   "name": "python",
   "nbconvert_exporter": "python",
   "pygments_lexer": "ipython3",
   "version": "3.13.5"
  }
 },
 "nbformat": 4,
 "nbformat_minor": 5
}
